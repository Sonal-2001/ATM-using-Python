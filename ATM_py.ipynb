{
  "nbformat": 4,
  "nbformat_minor": 0,
  "metadata": {
    "colab": {
      "provenance": []
    },
    "kernelspec": {
      "name": "python3",
      "display_name": "Python 3"
    },
    "language_info": {
      "name": "python"
    }
  },
  "cells": [
    {
      "cell_type": "code",
      "execution_count": null,
      "metadata": {
        "id": "2trDYoojqfmR"
      },
      "outputs": [],
      "source": [
        "while True:\n",
        "  balance=10000\n",
        "  print(\"  ATM  \")\n",
        "  print(\"\"\"\n",
        "  1)    Balance\n",
        "  2)    Withdraw\n",
        "  3)    Deposit\n",
        "  4)    Quit\n",
        "  \"\"\")\n",
        "  try:\n",
        "    Option= int(input(\"Enter Option:  \"))\n",
        "  except Exception as e:\n",
        "    print(\"Error:\",e)\n",
        "    print(\"Enter 1,2,3 or 4 only\")\n",
        "    continue\n",
        "  if Option==1:\n",
        "    print(\"Balance Rs\",balance)\n",
        "  if Option==2:\n",
        "    print(\"Balance Rs \",balance)\n",
        "    Withdraw=float(input(\"Enter Withdraw amount Rs \"))\n",
        "    if Withdraw > 0:\n",
        "      forewardbalance=(balance - Withdraw)\n",
        "      print(\"Foreward Balance Rs \",forewardbalance)\n",
        "    elif Withdraw>balance:\n",
        "      print(\"No funs in account\")\n",
        "    else:\n",
        "      print(\"None withdraw made\")\n",
        "  if Option==3:\n",
        "    print(\"Balance Rs \",balance)\n",
        "    Deposit=float(input(\"Enter deposit amount Rs \"))\n",
        "    if Deposit>0:\n",
        "      forewardbalance=(balance+Deposit)\n",
        "      print(\"Forewardbalance Rs \",forewardbalance)\n",
        "    else:\n",
        "      print(\"None deposit made\")\n",
        "  if Option==4:\n",
        "    exit()"
      ]
    }
  ]
}